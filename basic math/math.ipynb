{
 "cells": [
  {
   "cell_type": "markdown",
   "metadata": {},
   "source": [
    "# count digits\n"
   ]
  },
  {
   "cell_type": "code",
   "execution_count": 7,
   "metadata": {},
   "outputs": [
    {
     "name": "stdout",
     "output_type": "stream",
     "text": [
      "5\n"
     ]
    }
   ],
   "source": [
    "#brute force\n",
    "n=12345\n",
    "c=0\n",
    "while n>0:\n",
    "    c+=1\n",
    "    n//=10\n",
    "print(c)\n",
    "\n",
    "#time complexity = O(log n +1)"
   ]
  },
  {
   "cell_type": "code",
   "execution_count": null,
   "metadata": {},
   "outputs": [
    {
     "name": "stdout",
     "output_type": "stream",
     "text": [
      "5\n"
     ]
    }
   ],
   "source": [
    "#optimal\n",
    "import math\n",
    "n=12345\n",
    "print(int(math.log10(n)+1))\n",
    "\n",
    "#time complexity =O(1)  "
   ]
  },
  {
   "cell_type": "markdown",
   "metadata": {},
   "source": [
    "# reversing a number"
   ]
  },
  {
   "cell_type": "code",
   "execution_count": null,
   "metadata": {},
   "outputs": [
    {
     "data": {
      "text/plain": [
       "54321"
      ]
     },
     "execution_count": 2,
     "metadata": {},
     "output_type": "execute_result"
    }
   ],
   "source": [
    "\n",
    "def rev(n):\n",
    "    r=0\n",
    "    while(n>0):\n",
    "        r=(r*10)+(n%10)\n",
    "        n//=10\n",
    "    return r\n",
    "\n",
    "n=12345\n",
    "rev(n)\n",
    "\n",
    "\n",
    "#time complexity O(log10 n   + 1)"
   ]
  },
  {
   "cell_type": "code",
   "execution_count": null,
   "metadata": {},
   "outputs": [
    {
     "name": "stdout",
     "output_type": "stream",
     "text": [
      "54321\n"
     ]
    }
   ],
   "source": [
    "n=12345\n",
    "print(str(n)[-1::-1])\n",
    "\n",
    "\n",
    "#time complexity O(logn10 n )"
   ]
  },
  {
   "cell_type": "markdown",
   "metadata": {},
   "source": [
    "# palindrome check\n"
   ]
  },
  {
   "cell_type": "code",
   "execution_count": 8,
   "metadata": {},
   "outputs": [
    {
     "name": "stdout",
     "output_type": "stream",
     "text": [
      "not palindrome\n"
     ]
    }
   ],
   "source": [
    "n=1211\n",
    "k=rev(n)\n",
    "print(\"is palindrome\" if n==k else \"not palindrome\")"
   ]
  },
  {
   "cell_type": "markdown",
   "metadata": {},
   "source": [
    "# gcd or hcf"
   ]
  },
  {
   "cell_type": "code",
   "execution_count": null,
   "metadata": {},
   "outputs": [
    {
     "name": "stdout",
     "output_type": "stream",
     "text": [
      "the hcf 6 and 12 is 6\n"
     ]
    }
   ],
   "source": [
    "def hcf(n,m):\n",
    "    hcf=1\n",
    "    for i in range(1,min(n,m)+1):\n",
    "        if n%i==0 and m%i==0:\n",
    "            hcf=i\n",
    "    \n",
    "    return hcf  \n",
    "\n",
    "n,m=map(int,input().split())\n",
    "print(f\"the hcf {n} and {m} is {hcf(n,m)}\")\n",
    "\n",
    "    # time complexity is O(min(n,m)) -->no of iteration"
   ]
  },
  {
   "cell_type": "code",
   "execution_count": null,
   "metadata": {},
   "outputs": [
    {
     "name": "stdout",
     "output_type": "stream",
     "text": [
      "the hcf 6 and 12 is 6\n"
     ]
    }
   ],
   "source": [
    "#another approach\n",
    "\n",
    "def hcf(n,m):\n",
    "    \n",
    "    for i in range(min(n,m),0,-1):\n",
    "        if n%i==0 and m%i==0:\n",
    "            return i\n",
    "    \n",
    "    return 1\n",
    "\n",
    "n,m=map(int,input().split())\n",
    "print(f\"the hcf {n} and {m} is {hcf(n,m)}\")\n",
    "\n",
    "    # time complexity is O(min(n,m)) --> here the no of iterations reduces if both the no"
   ]
  },
  {
   "cell_type": "code",
   "execution_count": null,
   "metadata": {},
   "outputs": [
    {
     "name": "stdout",
     "output_type": "stream",
     "text": [
      "18\n"
     ]
    }
   ],
   "source": [
    "#optimal approach \"elucidean algorithm\"\n",
    "\n",
    "def hcf(n,m):\n",
    "    if m==0:\n",
    "        return n\n",
    "    return hcf(m,n%m)\n",
    "\n",
    "print(hcf(18,36))\n",
    "\n",
    "# time complexity is O(min(n,m))"
   ]
  }
 ],
 "metadata": {
  "kernelspec": {
   "display_name": "Python 3",
   "language": "python",
   "name": "python3"
  },
  "language_info": {
   "codemirror_mode": {
    "name": "ipython",
    "version": 3
   },
   "file_extension": ".py",
   "mimetype": "text/x-python",
   "name": "python",
   "nbconvert_exporter": "python",
   "pygments_lexer": "ipython3",
   "version": "3.12.1"
  }
 },
 "nbformat": 4,
 "nbformat_minor": 2
}
